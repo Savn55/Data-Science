{
 "cells": [
  {
   "cell_type": "markdown",
   "metadata": {},
   "source": [
    "# Mini Project \n",
    "## Exploratory Data Analysis of weather data.  "
   ]
  },
  {
   "cell_type": "code",
   "execution_count": 1,
   "metadata": {},
   "outputs": [],
   "source": [
    "import pandas as pd\n",
    "import numpy as np\n"
   ]
  },
  {
   "cell_type": "code",
   "execution_count": 2,
   "metadata": {},
   "outputs": [],
   "source": [
    "df = pd.read_csv('data.csv')"
   ]
  },
  {
   "cell_type": "code",
   "execution_count": 4,
   "metadata": {},
   "outputs": [
    {
     "data": {
      "text/html": [
       "<div>\n",
       "<style scoped>\n",
       "    .dataframe tbody tr th:only-of-type {\n",
       "        vertical-align: middle;\n",
       "    }\n",
       "\n",
       "    .dataframe tbody tr th {\n",
       "        vertical-align: top;\n",
       "    }\n",
       "\n",
       "    .dataframe thead th {\n",
       "        text-align: right;\n",
       "    }\n",
       "</style>\n",
       "<table border=\"1\" class=\"dataframe\">\n",
       "  <thead>\n",
       "    <tr style=\"text-align: right;\">\n",
       "      <th></th>\n",
       "      <th>Day</th>\n",
       "      <th>Average temperature (°F)</th>\n",
       "      <th>Average humidity (%)</th>\n",
       "      <th>Average dewpoint (°F)</th>\n",
       "      <th>Average barometer (in)</th>\n",
       "      <th>Average windspeed (mph)</th>\n",
       "      <th>Average gustspeed (mph)</th>\n",
       "      <th>Average direction (°deg)</th>\n",
       "      <th>Rainfall for month (in)</th>\n",
       "      <th>Rainfall for year (in)</th>\n",
       "      <th>Maximum rain per minute</th>\n",
       "      <th>Maximum temperature (°F)</th>\n",
       "      <th>Minimum temperature (°F)</th>\n",
       "      <th>Maximum humidity (%)</th>\n",
       "      <th>Minimum humidity (%)</th>\n",
       "      <th>Maximum pressure</th>\n",
       "      <th>Minimum pressure</th>\n",
       "      <th>Maximum windspeed (mph)</th>\n",
       "      <th>Maximum gust speed (mph)</th>\n",
       "      <th>Maximum heat index (°F)</th>\n",
       "    </tr>\n",
       "  </thead>\n",
       "  <tbody>\n",
       "    <tr>\n",
       "      <th>0</th>\n",
       "      <td>1/01/2009</td>\n",
       "      <td>37.8</td>\n",
       "      <td>35</td>\n",
       "      <td>12.7</td>\n",
       "      <td>29.7</td>\n",
       "      <td>26.4</td>\n",
       "      <td>36.8</td>\n",
       "      <td>274</td>\n",
       "      <td>0.00</td>\n",
       "      <td>0.00</td>\n",
       "      <td>0.00</td>\n",
       "      <td>40.1</td>\n",
       "      <td>34.5</td>\n",
       "      <td>44</td>\n",
       "      <td>27</td>\n",
       "      <td>29.762</td>\n",
       "      <td>29.596</td>\n",
       "      <td>41.4</td>\n",
       "      <td>59.0</td>\n",
       "      <td>40.1</td>\n",
       "    </tr>\n",
       "    <tr>\n",
       "      <th>1</th>\n",
       "      <td>2/01/2009</td>\n",
       "      <td>43.2</td>\n",
       "      <td>32</td>\n",
       "      <td>14.7</td>\n",
       "      <td>29.5</td>\n",
       "      <td>12.8</td>\n",
       "      <td>18.0</td>\n",
       "      <td>240</td>\n",
       "      <td>0.00</td>\n",
       "      <td>0.00</td>\n",
       "      <td>0.00</td>\n",
       "      <td>52.8</td>\n",
       "      <td>37.5</td>\n",
       "      <td>43</td>\n",
       "      <td>16</td>\n",
       "      <td>29.669</td>\n",
       "      <td>29.268</td>\n",
       "      <td>35.7</td>\n",
       "      <td>51.0</td>\n",
       "      <td>52.8</td>\n",
       "    </tr>\n",
       "    <tr>\n",
       "      <th>2</th>\n",
       "      <td>3/01/2009</td>\n",
       "      <td>25.7</td>\n",
       "      <td>60</td>\n",
       "      <td>12.7</td>\n",
       "      <td>29.7</td>\n",
       "      <td>8.3</td>\n",
       "      <td>12.2</td>\n",
       "      <td>290</td>\n",
       "      <td>0.00</td>\n",
       "      <td>0.00</td>\n",
       "      <td>0.00</td>\n",
       "      <td>41.2</td>\n",
       "      <td>6.7</td>\n",
       "      <td>89</td>\n",
       "      <td>35</td>\n",
       "      <td>30.232</td>\n",
       "      <td>29.260</td>\n",
       "      <td>25.3</td>\n",
       "      <td>38.0</td>\n",
       "      <td>41.2</td>\n",
       "    </tr>\n",
       "    <tr>\n",
       "      <th>3</th>\n",
       "      <td>4/01/2009</td>\n",
       "      <td>9.3</td>\n",
       "      <td>67</td>\n",
       "      <td>0.1</td>\n",
       "      <td>30.4</td>\n",
       "      <td>2.9</td>\n",
       "      <td>4.5</td>\n",
       "      <td>47</td>\n",
       "      <td>0.00</td>\n",
       "      <td>0.00</td>\n",
       "      <td>0.00</td>\n",
       "      <td>19.4</td>\n",
       "      <td>-0.0</td>\n",
       "      <td>79</td>\n",
       "      <td>35</td>\n",
       "      <td>30.566</td>\n",
       "      <td>30.227</td>\n",
       "      <td>12.7</td>\n",
       "      <td>20.0</td>\n",
       "      <td>32.0</td>\n",
       "    </tr>\n",
       "    <tr>\n",
       "      <th>4</th>\n",
       "      <td>5/01/2009</td>\n",
       "      <td>23.5</td>\n",
       "      <td>30</td>\n",
       "      <td>-5.3</td>\n",
       "      <td>29.9</td>\n",
       "      <td>16.7</td>\n",
       "      <td>23.1</td>\n",
       "      <td>265</td>\n",
       "      <td>0.00</td>\n",
       "      <td>0.00</td>\n",
       "      <td>0.00</td>\n",
       "      <td>30.3</td>\n",
       "      <td>15.1</td>\n",
       "      <td>56</td>\n",
       "      <td>13</td>\n",
       "      <td>30.233</td>\n",
       "      <td>29.568</td>\n",
       "      <td>38.0</td>\n",
       "      <td>53.0</td>\n",
       "      <td>32.0</td>\n",
       "    </tr>\n",
       "    <tr>\n",
       "      <th>5</th>\n",
       "      <td>6/01/2009</td>\n",
       "      <td>24.8</td>\n",
       "      <td>42</td>\n",
       "      <td>4.6</td>\n",
       "      <td>29.8</td>\n",
       "      <td>16.0</td>\n",
       "      <td>23.9</td>\n",
       "      <td>276</td>\n",
       "      <td>0.00</td>\n",
       "      <td>0.00</td>\n",
       "      <td>0.00</td>\n",
       "      <td>29.5</td>\n",
       "      <td>19.7</td>\n",
       "      <td>57</td>\n",
       "      <td>27</td>\n",
       "      <td>29.879</td>\n",
       "      <td>29.637</td>\n",
       "      <td>29.9</td>\n",
       "      <td>48.0</td>\n",
       "      <td>32.0</td>\n",
       "    </tr>\n",
       "    <tr>\n",
       "      <th>6</th>\n",
       "      <td>7/01/2009</td>\n",
       "      <td>34.2</td>\n",
       "      <td>60</td>\n",
       "      <td>21.6</td>\n",
       "      <td>29.7</td>\n",
       "      <td>20.4</td>\n",
       "      <td>30.0</td>\n",
       "      <td>276</td>\n",
       "      <td>0.00</td>\n",
       "      <td>0.00</td>\n",
       "      <td>0.00</td>\n",
       "      <td>39.1</td>\n",
       "      <td>27.3</td>\n",
       "      <td>86</td>\n",
       "      <td>46</td>\n",
       "      <td>29.860</td>\n",
       "      <td>29.602</td>\n",
       "      <td>38.0</td>\n",
       "      <td>54.0</td>\n",
       "      <td>39.1</td>\n",
       "    </tr>\n",
       "    <tr>\n",
       "      <th>7</th>\n",
       "      <td>8/01/2009</td>\n",
       "      <td>42.1</td>\n",
       "      <td>41</td>\n",
       "      <td>20.0</td>\n",
       "      <td>29.8</td>\n",
       "      <td>17.5</td>\n",
       "      <td>25.2</td>\n",
       "      <td>265</td>\n",
       "      <td>0.00</td>\n",
       "      <td>0.00</td>\n",
       "      <td>0.00</td>\n",
       "      <td>51.3</td>\n",
       "      <td>36.9</td>\n",
       "      <td>53</td>\n",
       "      <td>28</td>\n",
       "      <td>29.883</td>\n",
       "      <td>29.627</td>\n",
       "      <td>35.7</td>\n",
       "      <td>49.0</td>\n",
       "      <td>51.3</td>\n",
       "    </tr>\n",
       "    <tr>\n",
       "      <th>8</th>\n",
       "      <td>9/01/2009</td>\n",
       "      <td>30.3</td>\n",
       "      <td>46</td>\n",
       "      <td>11.4</td>\n",
       "      <td>30.0</td>\n",
       "      <td>6.9</td>\n",
       "      <td>10.6</td>\n",
       "      <td>292</td>\n",
       "      <td>0.00</td>\n",
       "      <td>0.00</td>\n",
       "      <td>0.00</td>\n",
       "      <td>41.5</td>\n",
       "      <td>19.2</td>\n",
       "      <td>82</td>\n",
       "      <td>27</td>\n",
       "      <td>30.446</td>\n",
       "      <td>29.575</td>\n",
       "      <td>24.2</td>\n",
       "      <td>36.0</td>\n",
       "      <td>41.5</td>\n",
       "    </tr>\n",
       "    <tr>\n",
       "      <th>9</th>\n",
       "      <td>10/01/2009</td>\n",
       "      <td>26.2</td>\n",
       "      <td>38</td>\n",
       "      <td>3.6</td>\n",
       "      <td>30.4</td>\n",
       "      <td>18.2</td>\n",
       "      <td>24.6</td>\n",
       "      <td>258</td>\n",
       "      <td>0.00</td>\n",
       "      <td>0.00</td>\n",
       "      <td>0.00</td>\n",
       "      <td>31.9</td>\n",
       "      <td>22.5</td>\n",
       "      <td>48</td>\n",
       "      <td>29</td>\n",
       "      <td>30.489</td>\n",
       "      <td>30.291</td>\n",
       "      <td>31.1</td>\n",
       "      <td>46.0</td>\n",
       "      <td>32.0</td>\n",
       "    </tr>\n",
       "    <tr>\n",
       "      <th>10</th>\n",
       "      <td>11/01/2009</td>\n",
       "      <td>30.1</td>\n",
       "      <td>41</td>\n",
       "      <td>9.0</td>\n",
       "      <td>30.3</td>\n",
       "      <td>17.0</td>\n",
       "      <td>24.6</td>\n",
       "      <td>270</td>\n",
       "      <td>0.00</td>\n",
       "      <td>0.00</td>\n",
       "      <td>0.00</td>\n",
       "      <td>36.3</td>\n",
       "      <td>26.0</td>\n",
       "      <td>52</td>\n",
       "      <td>29</td>\n",
       "      <td>30.421</td>\n",
       "      <td>30.112</td>\n",
       "      <td>31.1</td>\n",
       "      <td>44.0</td>\n",
       "      <td>36.3</td>\n",
       "    </tr>\n",
       "    <tr>\n",
       "      <th>11</th>\n",
       "      <td>12/01/2009</td>\n",
       "      <td>23.4</td>\n",
       "      <td>60</td>\n",
       "      <td>11.0</td>\n",
       "      <td>30.3</td>\n",
       "      <td>7.4</td>\n",
       "      <td>11.0</td>\n",
       "      <td>351</td>\n",
       "      <td>0.03</td>\n",
       "      <td>0.03</td>\n",
       "      <td>0.01</td>\n",
       "      <td>31.6</td>\n",
       "      <td>16.1</td>\n",
       "      <td>87</td>\n",
       "      <td>41</td>\n",
       "      <td>30.524</td>\n",
       "      <td>30.012</td>\n",
       "      <td>25.3</td>\n",
       "      <td>33.0</td>\n",
       "      <td>32.0</td>\n",
       "    </tr>\n",
       "    <tr>\n",
       "      <th>12</th>\n",
       "      <td>13/01/2009</td>\n",
       "      <td>32.4</td>\n",
       "      <td>47</td>\n",
       "      <td>14.6</td>\n",
       "      <td>30.2</td>\n",
       "      <td>16.3</td>\n",
       "      <td>22.6</td>\n",
       "      <td>254</td>\n",
       "      <td>0.03</td>\n",
       "      <td>0.03</td>\n",
       "      <td>0.00</td>\n",
       "      <td>38.0</td>\n",
       "      <td>28.5</td>\n",
       "      <td>54</td>\n",
       "      <td>34</td>\n",
       "      <td>30.340</td>\n",
       "      <td>30.046</td>\n",
       "      <td>32.2</td>\n",
       "      <td>47.0</td>\n",
       "      <td>38.0</td>\n",
       "    </tr>\n",
       "  </tbody>\n",
       "</table>\n",
       "</div>"
      ],
      "text/plain": [
       "           Day  Average temperature (°F)  Average humidity (%)  \\\n",
       "0    1/01/2009                      37.8                    35   \n",
       "1    2/01/2009                      43.2                    32   \n",
       "2    3/01/2009                      25.7                    60   \n",
       "3    4/01/2009                       9.3                    67   \n",
       "4    5/01/2009                      23.5                    30   \n",
       "5    6/01/2009                      24.8                    42   \n",
       "6    7/01/2009                      34.2                    60   \n",
       "7    8/01/2009                      42.1                    41   \n",
       "8    9/01/2009                      30.3                    46   \n",
       "9   10/01/2009                      26.2                    38   \n",
       "10  11/01/2009                      30.1                    41   \n",
       "11  12/01/2009                      23.4                    60   \n",
       "12  13/01/2009                      32.4                    47   \n",
       "\n",
       "    Average dewpoint (°F)  Average barometer (in)  Average windspeed (mph)  \\\n",
       "0                    12.7                    29.7                     26.4   \n",
       "1                    14.7                    29.5                     12.8   \n",
       "2                    12.7                    29.7                      8.3   \n",
       "3                     0.1                    30.4                      2.9   \n",
       "4                    -5.3                    29.9                     16.7   \n",
       "5                     4.6                    29.8                     16.0   \n",
       "6                    21.6                    29.7                     20.4   \n",
       "7                    20.0                    29.8                     17.5   \n",
       "8                    11.4                    30.0                      6.9   \n",
       "9                     3.6                    30.4                     18.2   \n",
       "10                    9.0                    30.3                     17.0   \n",
       "11                   11.0                    30.3                      7.4   \n",
       "12                   14.6                    30.2                     16.3   \n",
       "\n",
       "    Average gustspeed (mph)  Average direction (°deg)  \\\n",
       "0                      36.8                       274   \n",
       "1                      18.0                       240   \n",
       "2                      12.2                       290   \n",
       "3                       4.5                        47   \n",
       "4                      23.1                       265   \n",
       "5                      23.9                       276   \n",
       "6                      30.0                       276   \n",
       "7                      25.2                       265   \n",
       "8                      10.6                       292   \n",
       "9                      24.6                       258   \n",
       "10                     24.6                       270   \n",
       "11                     11.0                       351   \n",
       "12                     22.6                       254   \n",
       "\n",
       "    Rainfall for month (in)  Rainfall for year (in)  Maximum rain per minute   \\\n",
       "0                      0.00                    0.00                      0.00   \n",
       "1                      0.00                    0.00                      0.00   \n",
       "2                      0.00                    0.00                      0.00   \n",
       "3                      0.00                    0.00                      0.00   \n",
       "4                      0.00                    0.00                      0.00   \n",
       "5                      0.00                    0.00                      0.00   \n",
       "6                      0.00                    0.00                      0.00   \n",
       "7                      0.00                    0.00                      0.00   \n",
       "8                      0.00                    0.00                      0.00   \n",
       "9                      0.00                    0.00                      0.00   \n",
       "10                     0.00                    0.00                      0.00   \n",
       "11                     0.03                    0.03                      0.01   \n",
       "12                     0.03                    0.03                      0.00   \n",
       "\n",
       "    Maximum temperature (°F)  Minimum temperature (°F)  Maximum humidity (%)  \\\n",
       "0                       40.1                      34.5                    44   \n",
       "1                       52.8                      37.5                    43   \n",
       "2                       41.2                       6.7                    89   \n",
       "3                       19.4                      -0.0                    79   \n",
       "4                       30.3                      15.1                    56   \n",
       "5                       29.5                      19.7                    57   \n",
       "6                       39.1                      27.3                    86   \n",
       "7                       51.3                      36.9                    53   \n",
       "8                       41.5                      19.2                    82   \n",
       "9                       31.9                      22.5                    48   \n",
       "10                      36.3                      26.0                    52   \n",
       "11                      31.6                      16.1                    87   \n",
       "12                      38.0                      28.5                    54   \n",
       "\n",
       "    Minimum humidity (%)  Maximum pressure   Minimum pressure   \\\n",
       "0                     27             29.762             29.596   \n",
       "1                     16             29.669             29.268   \n",
       "2                     35             30.232             29.260   \n",
       "3                     35             30.566             30.227   \n",
       "4                     13             30.233             29.568   \n",
       "5                     27             29.879             29.637   \n",
       "6                     46             29.860             29.602   \n",
       "7                     28             29.883             29.627   \n",
       "8                     27             30.446             29.575   \n",
       "9                     29             30.489             30.291   \n",
       "10                    29             30.421             30.112   \n",
       "11                    41             30.524             30.012   \n",
       "12                    34             30.340             30.046   \n",
       "\n",
       "    Maximum windspeed (mph)  Maximum gust speed (mph)  Maximum heat index (°F)  \n",
       "0                      41.4                      59.0                     40.1  \n",
       "1                      35.7                      51.0                     52.8  \n",
       "2                      25.3                      38.0                     41.2  \n",
       "3                      12.7                      20.0                     32.0  \n",
       "4                      38.0                      53.0                     32.0  \n",
       "5                      29.9                      48.0                     32.0  \n",
       "6                      38.0                      54.0                     39.1  \n",
       "7                      35.7                      49.0                     51.3  \n",
       "8                      24.2                      36.0                     41.5  \n",
       "9                      31.1                      46.0                     32.0  \n",
       "10                     31.1                      44.0                     36.3  \n",
       "11                     25.3                      33.0                     32.0  \n",
       "12                     32.2                      47.0                     38.0  "
      ]
     },
     "execution_count": 4,
     "metadata": {},
     "output_type": "execute_result"
    }
   ],
   "source": [
    "# check if any null values\n",
    "# df.isnull().sum() returns sum of null values\n",
    "\n",
    "df.head() #displays first five data"
   ]
  },
  {
   "cell_type": "code",
   "execution_count": 29,
   "metadata": {},
   "outputs": [],
   "source": [
    "# convert day ('object') to datetime format\n",
    "# df.dtypes to check the datatypes\n",
    "\n",
    "df.Day = pd.to_datetime(df['Day'],format='%d/%m/%Y') #format is important to consider\n"
   ]
  },
  {
   "cell_type": "markdown",
   "metadata": {},
   "source": [
    "## 1. What is the standard deviation of maximum windspeed across all the days¶"
   ]
  },
  {
   "cell_type": "code",
   "execution_count": 38,
   "metadata": {},
   "outputs": [
    {
     "data": {
      "text/plain": [
       "13.06"
      ]
     },
     "execution_count": 38,
     "metadata": {},
     "output_type": "execute_result"
    }
   ],
   "source": [
    "q1 = round(df['Maximum windspeed (mph)'].std(), 2)\n",
    "q1 #= 13.06\n",
    "# for two digit precision, q1 = ('%.2f' %q1) or use round()"
   ]
  },
  {
   "cell_type": "markdown",
   "metadata": {},
   "source": [
    "## 2. What is the difference between 50th percentile and 75th percentile of average temperature"
   ]
  },
  {
   "cell_type": "code",
   "execution_count": 37,
   "metadata": {},
   "outputs": [
    {
     "data": {
      "text/plain": [
       "12.2"
      ]
     },
     "execution_count": 37,
     "metadata": {},
     "output_type": "execute_result"
    }
   ],
   "source": [
    "# for percentile, df.quantile(n), where n = 0.1, 0.2, 0.5, 0.9 for 10, 20, 50, 90 percentiles\n",
    "# per_50 = df['Average temperature (°F)'].quantile(0.5)\n",
    "# per_75 = df['Average temperature (°F)'].quantile(0.75)\n",
    "# diff = per_50 - per_75\n",
    "\n",
    "# concisely\n",
    "q2 = round((df['Average temperature (°F)'].quantile(0.75) - df['Average temperature (°F)'].quantile(0.50)), 2)\n",
    "q2 #=12.2"
   ]
  },
  {
   "cell_type": "markdown",
   "metadata": {},
   "source": [
    "## 3. What is the pearson correlation between average dew point and average temperature\n"
   ]
  },
  {
   "cell_type": "code",
   "execution_count": 36,
   "metadata": {},
   "outputs": [
    {
     "data": {
      "text/plain": [
       "0.76"
      ]
     },
     "execution_count": 36,
     "metadata": {},
     "output_type": "execute_result"
    }
   ],
   "source": [
    "from scipy import stats # for pearson correlation\n",
    "avg_dpoint = df['Average dewpoint (°F)']\n",
    "avg_temp = df['Average temperature (°F)']\n",
    "\n",
    "q3 = stats.pearsonr(avg_dpoint, avg_temp)\n",
    "# q3 = (0.7596091253567395, 0.0) a tuple\n",
    "\n",
    "q3 = round(q3[0], 2)\n",
    "q3 #= 0.76 is pearson correlation"
   ]
  },
  {
   "cell_type": "markdown",
   "metadata": {},
   "source": [
    "## 4. Out of all the available records which month has the lowest average humidity.\n",
    "- Assign your answer as month index, for example if its July index is 7"
   ]
  },
  {
   "cell_type": "code",
   "execution_count": 35,
   "metadata": {},
   "outputs": [
    {
     "data": {
      "text/plain": [
       "1"
      ]
     },
     "execution_count": 35,
     "metadata": {},
     "output_type": "execute_result"
    }
   ],
   "source": [
    "# first find min humidity and locate the month to that humidity\n",
    "\n",
    "min_avg_humi = df['Average humidity (%)'].min()\n",
    "q4 = df.loc[df['Average humidity (%)'] == min_avg_humi, 'Day'].iloc[0] #iloc[0] to return 1st value from series.\n",
    "#q4 gives -> Timestamp('2013-01-22 00:00:00')\n",
    "\n",
    "q4 = q4.month #timestamp.month gives the month \n",
    "q4 #=1"
   ]
  },
  {
   "cell_type": "markdown",
   "metadata": {},
   "source": [
    "## 5/6. Which month has the highest median for maximum_gust_speed out of all the available records. Also find the repective value\n",
    "- hint: group by month"
   ]
  },
  {
   "cell_type": "code",
   "execution_count": 40,
   "metadata": {},
   "outputs": [
    {
     "name": "stdout",
     "output_type": "stream",
     "text": [
      "month_index\n",
      "1     32.2\n",
      "2     34.5\n",
      "3     31.1\n",
      "4     27.6\n",
      "5     26.0\n",
      "6     26.5\n",
      "7     24.2\n",
      "8     24.2\n",
      "9     24.2\n",
      "10    26.5\n",
      "11    32.2\n",
      "12    33.4\n",
      "Name: Maximum gust speed (mph), dtype: float64\n"
     ]
    }
   ],
   "source": [
    "# add month_index col with months of each Days\n",
    "df['month_index'] = df['Day'].dt.month\n",
    "\n",
    "#groupby month_index and record each months Maximum gust speed (mph) median.  \n",
    "max_gust = df.groupby(['month_index'])['Maximum gust speed (mph)'].median()\n",
    "# print(max_gust)\n",
    "\n",
    "q5 = max_gust.max() #max median value\n",
    "\n",
    "month = max_gust.idxmax() # month_index of max Maximum gust speed (mph)\n",
    "q6 = month \n",
    "q6 #=2"
   ]
  },
  {
   "cell_type": "markdown",
   "metadata": {},
   "source": [
    "## 7. Determine the average temperature between the months of March 2010 to May 2012 (including both the months)"
   ]
  },
  {
   "cell_type": "code",
   "execution_count": 27,
   "metadata": {},
   "outputs": [
    {
     "data": {
      "text/plain": [
       "45.33"
      ]
     },
     "execution_count": 27,
     "metadata": {},
     "output_type": "execute_result"
    }
   ],
   "source": [
    "# Between 2010-03-01 and 2012-05-31\n",
    "\n",
    "mask = (df['Day'] >= '2010-03-01') & (df['Day'] <= '2012-05-31')\n",
    "q7 = df[mask].iloc[:,1] #iloc[:,1] gives Average temp col\n",
    "\n",
    "#Average temp = sum/len\n",
    "q7 = round((sum(q7)/len(q7)),2)\n",
    "q7 #= 45.33"
   ]
  },
  {
   "cell_type": "markdown",
   "metadata": {},
   "source": [
    "## 8. Find the range of average temperature on Dec 2010"
   ]
  },
  {
   "cell_type": "code",
   "execution_count": 28,
   "metadata": {},
   "outputs": [
    {
     "data": {
      "text/plain": [
       "44.8"
      ]
     },
     "execution_count": 28,
     "metadata": {},
     "output_type": "execute_result"
    }
   ],
   "source": [
    "# Range is max temp to min temp\n",
    "\n",
    "min_temp = df.loc[(df['Day'] >= '2010-12-01') & (df['Day'] <= '2010-12-31')].iloc[:,1].min()\n",
    "max_temp = df.loc[(df['Day'] >= '2010-12-01') & (df['Day'] <= '2010-12-31')].iloc[:,1].max()\n",
    "q8 = round((max_temp - min_temp),2)\n",
    "q8 #=44.8"
   ]
  },
  {
   "cell_type": "markdown",
   "metadata": {},
   "source": [
    "## 9. Out of all available records which day has the highest difference between maximum_pressure and minimum_pressure\n",
    "- assign the date in string format as 'yyyy-mm-dd'. Make sure you enclose it with single quote"
   ]
  },
  {
   "cell_type": "code",
   "execution_count": 42,
   "metadata": {},
   "outputs": [
    {
     "data": {
      "text/plain": [
       "'2018-03-23'"
      ]
     },
     "execution_count": 42,
     "metadata": {},
     "output_type": "execute_result"
    }
   ],
   "source": [
    "# Careful, Maximum pressure has space at the end\n",
    "# print(df.columns.tolist()) to print the list of col names\n",
    "df['press_diff'] = df['Maximum pressure '] - df['Minimum pressure ']\n",
    "max_pres = df.press_diff.idxmax() #max pressure index\n",
    "\n",
    "date_ts = df['Day'][max_pres] #returns timestamp -> Timestamp('2018-03-23 00:00:00')\n",
    "q9 = date_ts.strftime('%Y-%m-%d') #strftime to convert from timestamp, datetime to string format.\n",
    "q9 #= '2018-03-23'"
   ]
  },
  {
   "cell_type": "markdown",
   "metadata": {},
   "source": [
    "## 10. How many days falls under median (i.e equal to median value) of barrometer reading."
   ]
  },
  {
   "cell_type": "code",
   "execution_count": 43,
   "metadata": {},
   "outputs": [
    {
     "data": {
      "text/plain": [
       "534"
      ]
     },
     "execution_count": 43,
     "metadata": {},
     "output_type": "execute_result"
    }
   ],
   "source": [
    "# find the median of barometer first, then locate the dates with median values, and count them.\n",
    "med = df['Average barometer (in)'].median()\n",
    "q10 = df.loc[df['Average barometer (in)']==med, 'Day'].count()\n",
    "q10 #= 534"
   ]
  },
  {
   "cell_type": "markdown",
   "metadata": {},
   "source": [
    "## 11. Out of all the available records how many days are within one standard deviation of average temperature"
   ]
  },
  {
   "cell_type": "code",
   "execution_count": 44,
   "metadata": {},
   "outputs": [
    {
     "data": {
      "text/plain": [
       "2092"
      ]
     },
     "execution_count": 44,
     "metadata": {},
     "output_type": "execute_result"
    }
   ],
   "source": [
    "std = round(df.iloc[:,1].std(),2)\n",
    "# print(std)\n",
    "mean = round(df.iloc[:,1].mean(),2)\n",
    "# print(mean)\n",
    "\n",
    "# within one std is from -σ to σ {-σ, μ, σ}\n",
    "# so mean-std covers left area from mean, and mean+std for right area from mean\n",
    "one_std_dev = df[(df.iloc[:,1] >= mean-std) & (df.iloc[:,1] <= mean + std)]\n",
    "q11 = len(one_std_dev)\n",
    "q11 #=2092"
   ]
  },
  {
   "cell_type": "code",
   "execution_count": null,
   "metadata": {},
   "outputs": [],
   "source": []
  }
 ],
 "metadata": {
  "kernelspec": {
   "display_name": "Python 3",
   "language": "python",
   "name": "python3"
  },
  "language_info": {
   "codemirror_mode": {
    "name": "ipython",
    "version": 3
   },
   "file_extension": ".py",
   "mimetype": "text/x-python",
   "name": "python",
   "nbconvert_exporter": "python",
   "pygments_lexer": "ipython3",
   "version": "3.7.6"
  }
 },
 "nbformat": 4,
 "nbformat_minor": 4
}
